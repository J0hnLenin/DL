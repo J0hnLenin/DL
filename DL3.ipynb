{
 "cells": [
  {
   "cell_type": "markdown",
   "metadata": {},
   "source": [
    "# Лабораторная работа №3\n",
    "Классификация пингвинов\n",
    "Выполнили студенты Зимин Андрей Валерьевич, Жилин Андрей Игроевич"
   ]
  },
  {
   "cell_type": "code",
   "metadata": {
    "ExecuteTime": {
     "end_time": "2025-03-21T06:45:07.121504Z",
     "start_time": "2025-03-21T06:45:07.103538Z"
    }
   },
   "source": [
    "import numpy as np\n",
    "import pandas as pd\n",
    "from matplotlib import pyplot as plt\n",
    "\n",
    "from sklearn.metrics import accuracy_score as acc\n",
    "from sklearn.metrics import recall_score as rec\n",
    "from sklearn.metrics import precision_score as pre\n",
    "from sklearn.model_selection import train_test_split\n",
    "from matplotlib.ticker import MaxNLocator\n",
    "import qrcode\n",
    "import numpy as np\n",
    "from matplotlib import pyplot as plt\n",
    "import random\n",
    "import string\n",
    "from typing import Callable, List, Union\n",
    "from numpy.typing import NDArray\n",
    "from sklearn.metrics import accuracy_score as acc\n",
    "from sklearn.metrics import recall_score as rec\n",
    "from sklearn.metrics import precision_score as pre\n",
    "from sklearn.model_selection import train_test_split\n",
    "from sklearn.preprocessing import StandardScaler, MinMaxScaler\n",
    "from matplotlib.ticker import MaxNLocator"
   ],
   "outputs": [],
   "execution_count": 131
  },
  {
   "cell_type": "markdown",
   "metadata": {},
   "source": [
    "## Задание 1\n",
    "1. Загрузить данные из файла «pinguins.csv». Проверить, что загружены все 333 кортежа данных по всем 7 признакам  \n",
    "2. Определить типы данных\n",
    "3. Определить параметры числовых данных\n",
    "4. Для нечисловых (текстовых) данных определить количество записей по каждому элементу и визуализировать гистограммы, например, так (для признака «species»)\n",
    "5. Для каждого текстового признака построить мозаику 2D диаграмм рассеяния выбирая в качестве параметров всевозможные пары числовых признаков, аналогично мозаике диаграмм для ирисов."
   ]
  },
  {
   "cell_type": "code",
   "metadata": {
    "ExecuteTime": {
     "end_time": "2025-03-21T06:45:07.193556Z",
     "start_time": "2025-03-21T06:45:07.144545Z"
    }
   },
   "source": [
    "df = pd.read_csv(\"./data/penguins.csv\")\n",
    "df"
   ],
   "outputs": [
    {
     "data": {
      "text/plain": [
       "       species     island  bill_length_mm  bill_depth_mm  flipper_length_mm  \\\n",
       "0       Adelie  Torgersen          39.100         18.700                181   \n",
       "1       Adelie  Torgersen          39.500         17.400                186   \n",
       "2       Adelie  Torgersen          40.300         18.000                195   \n",
       "3       Adelie  Torgersen          36.700         19.300                193   \n",
       "4       Adelie  Torgersen          39.300         20.600                190   \n",
       "..         ...        ...             ...            ...                ...   \n",
       "328  Chinstrap      Dream          55.800         19.800                207   \n",
       "329  Chinstrap      Dream          43.500         18.100                202   \n",
       "330  Chinstrap      Dream          49.600         18.200                193   \n",
       "331  Chinstrap      Dream          50.800         19.000                210   \n",
       "332  Chinstrap      Dream          50.200         18.700                198   \n",
       "\n",
       "     body_mass_g     sex  \n",
       "0           3750    male  \n",
       "1           3800  female  \n",
       "2           3250  female  \n",
       "3           3450  female  \n",
       "4           3650    male  \n",
       "..           ...     ...  \n",
       "328         4000    male  \n",
       "329         3400  female  \n",
       "330         3775    male  \n",
       "331         4100    male  \n",
       "332         3775  female  \n",
       "\n",
       "[333 rows x 7 columns]"
      ],
      "text/html": [
       "<div>\n",
       "<style scoped>\n",
       "    .dataframe tbody tr th:only-of-type {\n",
       "        vertical-align: middle;\n",
       "    }\n",
       "\n",
       "    .dataframe tbody tr th {\n",
       "        vertical-align: top;\n",
       "    }\n",
       "\n",
       "    .dataframe thead th {\n",
       "        text-align: right;\n",
       "    }\n",
       "</style>\n",
       "<table border=\"1\" class=\"dataframe\">\n",
       "  <thead>\n",
       "    <tr style=\"text-align: right;\">\n",
       "      <th></th>\n",
       "      <th>species</th>\n",
       "      <th>island</th>\n",
       "      <th>bill_length_mm</th>\n",
       "      <th>bill_depth_mm</th>\n",
       "      <th>flipper_length_mm</th>\n",
       "      <th>body_mass_g</th>\n",
       "      <th>sex</th>\n",
       "    </tr>\n",
       "  </thead>\n",
       "  <tbody>\n",
       "    <tr>\n",
       "      <th>0</th>\n",
       "      <td>Adelie</td>\n",
       "      <td>Torgersen</td>\n",
       "      <td>39.100</td>\n",
       "      <td>18.700</td>\n",
       "      <td>181</td>\n",
       "      <td>3750</td>\n",
       "      <td>male</td>\n",
       "    </tr>\n",
       "    <tr>\n",
       "      <th>1</th>\n",
       "      <td>Adelie</td>\n",
       "      <td>Torgersen</td>\n",
       "      <td>39.500</td>\n",
       "      <td>17.400</td>\n",
       "      <td>186</td>\n",
       "      <td>3800</td>\n",
       "      <td>female</td>\n",
       "    </tr>\n",
       "    <tr>\n",
       "      <th>2</th>\n",
       "      <td>Adelie</td>\n",
       "      <td>Torgersen</td>\n",
       "      <td>40.300</td>\n",
       "      <td>18.000</td>\n",
       "      <td>195</td>\n",
       "      <td>3250</td>\n",
       "      <td>female</td>\n",
       "    </tr>\n",
       "    <tr>\n",
       "      <th>3</th>\n",
       "      <td>Adelie</td>\n",
       "      <td>Torgersen</td>\n",
       "      <td>36.700</td>\n",
       "      <td>19.300</td>\n",
       "      <td>193</td>\n",
       "      <td>3450</td>\n",
       "      <td>female</td>\n",
       "    </tr>\n",
       "    <tr>\n",
       "      <th>4</th>\n",
       "      <td>Adelie</td>\n",
       "      <td>Torgersen</td>\n",
       "      <td>39.300</td>\n",
       "      <td>20.600</td>\n",
       "      <td>190</td>\n",
       "      <td>3650</td>\n",
       "      <td>male</td>\n",
       "    </tr>\n",
       "    <tr>\n",
       "      <th>...</th>\n",
       "      <td>...</td>\n",
       "      <td>...</td>\n",
       "      <td>...</td>\n",
       "      <td>...</td>\n",
       "      <td>...</td>\n",
       "      <td>...</td>\n",
       "      <td>...</td>\n",
       "    </tr>\n",
       "    <tr>\n",
       "      <th>328</th>\n",
       "      <td>Chinstrap</td>\n",
       "      <td>Dream</td>\n",
       "      <td>55.800</td>\n",
       "      <td>19.800</td>\n",
       "      <td>207</td>\n",
       "      <td>4000</td>\n",
       "      <td>male</td>\n",
       "    </tr>\n",
       "    <tr>\n",
       "      <th>329</th>\n",
       "      <td>Chinstrap</td>\n",
       "      <td>Dream</td>\n",
       "      <td>43.500</td>\n",
       "      <td>18.100</td>\n",
       "      <td>202</td>\n",
       "      <td>3400</td>\n",
       "      <td>female</td>\n",
       "    </tr>\n",
       "    <tr>\n",
       "      <th>330</th>\n",
       "      <td>Chinstrap</td>\n",
       "      <td>Dream</td>\n",
       "      <td>49.600</td>\n",
       "      <td>18.200</td>\n",
       "      <td>193</td>\n",
       "      <td>3775</td>\n",
       "      <td>male</td>\n",
       "    </tr>\n",
       "    <tr>\n",
       "      <th>331</th>\n",
       "      <td>Chinstrap</td>\n",
       "      <td>Dream</td>\n",
       "      <td>50.800</td>\n",
       "      <td>19.000</td>\n",
       "      <td>210</td>\n",
       "      <td>4100</td>\n",
       "      <td>male</td>\n",
       "    </tr>\n",
       "    <tr>\n",
       "      <th>332</th>\n",
       "      <td>Chinstrap</td>\n",
       "      <td>Dream</td>\n",
       "      <td>50.200</td>\n",
       "      <td>18.700</td>\n",
       "      <td>198</td>\n",
       "      <td>3775</td>\n",
       "      <td>female</td>\n",
       "    </tr>\n",
       "  </tbody>\n",
       "</table>\n",
       "<p>333 rows × 7 columns</p>\n",
       "</div>"
      ]
     },
     "execution_count": 132,
     "metadata": {},
     "output_type": "execute_result"
    }
   ],
   "execution_count": 132
  },
  {
   "cell_type": "markdown",
   "metadata": {},
   "source": [
    "Загрузили датасет. Действительно 7 признаков и 333 строки"
   ]
  },
  {
   "cell_type": "code",
   "metadata": {
    "ExecuteTime": {
     "end_time": "2025-03-21T06:45:07.407448Z",
     "start_time": "2025-03-21T06:45:07.352501Z"
    }
   },
   "source": [
    "df.info()"
   ],
   "outputs": [
    {
     "name": "stdout",
     "output_type": "stream",
     "text": [
      "<class 'pandas.core.frame.DataFrame'>\n",
      "RangeIndex: 333 entries, 0 to 332\n",
      "Data columns (total 7 columns):\n",
      " #   Column             Non-Null Count  Dtype  \n",
      "---  ------             --------------  -----  \n",
      " 0   species            333 non-null    object \n",
      " 1   island             333 non-null    object \n",
      " 2   bill_length_mm     333 non-null    float64\n",
      " 3   bill_depth_mm      333 non-null    float64\n",
      " 4   flipper_length_mm  333 non-null    int64  \n",
      " 5   body_mass_g        333 non-null    int64  \n",
      " 6   sex                333 non-null    object \n",
      "dtypes: float64(2), int64(2), object(3)\n",
      "memory usage: 18.3+ KB\n"
     ]
    }
   ],
   "execution_count": 133
  },
  {
   "cell_type": "markdown",
   "metadata": {},
   "source": [
    "species            - категориальный признак  \n",
    "island             - категориальный признак  \n",
    "bill_length_mm     - числовой признак  \n",
    "bill_depth_mm      - числовой признак  \n",
    "flipper_length_mm  - числовой признак  \n",
    "body_mass_g        - числовой признак  \n",
    "sex                - бинарный признак   "
   ]
  },
  {
   "cell_type": "markdown",
   "metadata": {},
   "source": [
    "Перед обучением нужно будет закодировать категориальные признаки one-hot encoding"
   ]
  },
  {
   "cell_type": "code",
   "metadata": {
    "ExecuteTime": {
     "end_time": "2025-03-21T06:45:07.595367Z",
     "start_time": "2025-03-21T06:45:07.557776Z"
    }
   },
   "source": [
    "pd.options.display.float_format = '{:,.3f}'.format\n",
    "df.describe()"
   ],
   "outputs": [
    {
     "data": {
      "text/plain": [
       "       bill_length_mm  bill_depth_mm  flipper_length_mm  body_mass_g\n",
       "count         333.000        333.000            333.000      333.000\n",
       "mean           43.993         17.165            200.967    4,207.057\n",
       "std             5.469          1.969             14.016      805.216\n",
       "min            32.100         13.100            172.000    2,700.000\n",
       "25%            39.500         15.600            190.000    3,550.000\n",
       "50%            44.500         17.300            197.000    4,050.000\n",
       "75%            48.600         18.700            213.000    4,775.000\n",
       "max            59.600         21.500            231.000    6,300.000"
      ],
      "text/html": [
       "<div>\n",
       "<style scoped>\n",
       "    .dataframe tbody tr th:only-of-type {\n",
       "        vertical-align: middle;\n",
       "    }\n",
       "\n",
       "    .dataframe tbody tr th {\n",
       "        vertical-align: top;\n",
       "    }\n",
       "\n",
       "    .dataframe thead th {\n",
       "        text-align: right;\n",
       "    }\n",
       "</style>\n",
       "<table border=\"1\" class=\"dataframe\">\n",
       "  <thead>\n",
       "    <tr style=\"text-align: right;\">\n",
       "      <th></th>\n",
       "      <th>bill_length_mm</th>\n",
       "      <th>bill_depth_mm</th>\n",
       "      <th>flipper_length_mm</th>\n",
       "      <th>body_mass_g</th>\n",
       "    </tr>\n",
       "  </thead>\n",
       "  <tbody>\n",
       "    <tr>\n",
       "      <th>count</th>\n",
       "      <td>333.000</td>\n",
       "      <td>333.000</td>\n",
       "      <td>333.000</td>\n",
       "      <td>333.000</td>\n",
       "    </tr>\n",
       "    <tr>\n",
       "      <th>mean</th>\n",
       "      <td>43.993</td>\n",
       "      <td>17.165</td>\n",
       "      <td>200.967</td>\n",
       "      <td>4,207.057</td>\n",
       "    </tr>\n",
       "    <tr>\n",
       "      <th>std</th>\n",
       "      <td>5.469</td>\n",
       "      <td>1.969</td>\n",
       "      <td>14.016</td>\n",
       "      <td>805.216</td>\n",
       "    </tr>\n",
       "    <tr>\n",
       "      <th>min</th>\n",
       "      <td>32.100</td>\n",
       "      <td>13.100</td>\n",
       "      <td>172.000</td>\n",
       "      <td>2,700.000</td>\n",
       "    </tr>\n",
       "    <tr>\n",
       "      <th>25%</th>\n",
       "      <td>39.500</td>\n",
       "      <td>15.600</td>\n",
       "      <td>190.000</td>\n",
       "      <td>3,550.000</td>\n",
       "    </tr>\n",
       "    <tr>\n",
       "      <th>50%</th>\n",
       "      <td>44.500</td>\n",
       "      <td>17.300</td>\n",
       "      <td>197.000</td>\n",
       "      <td>4,050.000</td>\n",
       "    </tr>\n",
       "    <tr>\n",
       "      <th>75%</th>\n",
       "      <td>48.600</td>\n",
       "      <td>18.700</td>\n",
       "      <td>213.000</td>\n",
       "      <td>4,775.000</td>\n",
       "    </tr>\n",
       "    <tr>\n",
       "      <th>max</th>\n",
       "      <td>59.600</td>\n",
       "      <td>21.500</td>\n",
       "      <td>231.000</td>\n",
       "      <td>6,300.000</td>\n",
       "    </tr>\n",
       "  </tbody>\n",
       "</table>\n",
       "</div>"
      ]
     },
     "execution_count": 134,
     "metadata": {},
     "output_type": "execute_result"
    }
   ],
   "execution_count": 134
  },
  {
   "cell_type": "markdown",
   "metadata": {},
   "source": [
    "Видим, что сильно выделяется признак массы тела, он на 2-3 порядка больше остальных признаков. Перед обучением было бы неплохо провести нормализацию"
   ]
  },
  {
   "cell_type": "code",
   "metadata": {
    "ExecuteTime": {
     "end_time": "2025-03-21T06:45:08.166643Z",
     "start_time": "2025-03-21T06:45:07.827037Z"
    }
   },
   "source": [
    "category_columns = ['species', 'island', 'sex']\n",
    "\n",
    "fig, ax = plt.subplots(1, 1, figsize=(4, 4))\n",
    "#for i, category in enumerate(category_columns):\n",
    "#   ax[i].bar()"
   ],
   "outputs": [
    {
     "data": {
      "text/plain": [
       "<Figure size 400x400 with 1 Axes>"
      ],
      "image/png": "[encoded data removed]"
     },
     "metadata": {},
     "output_type": "display_data"
    }
   ],
   "execution_count": 135
  },
  {
   "cell_type": "code",
   "metadata": {
    "ExecuteTime": {
     "end_time": "2025-03-21T06:45:08.285926Z",
     "start_time": "2025-03-21T06:45:08.253829Z"
    }
   },
   "source": [
    "class Perceptron:\n",
    "  def __init__(self, hidden_layers : List[int],\n",
    "               activations: List[Callable],\n",
    "               eta:Union[int, float] = 1,\n",
    "               n_epochs: int = 100,\n",
    "               random_weights=None,\n",
    "               random_state=None):\n",
    "    np.random.seed(random_state)\n",
    "    random.seed(random_state)\n",
    "    self.layers = []\n",
    "    self.epochs = n_epochs\n",
    "    self.eta = eta\n",
    "    self.errors = []\n",
    "    l = hidden_layers + [1]\n",
    "    for i in range(len(hidden_layers)):\n",
    "      self.layers.append(Layer((l[i]+1, l[i+1]), activations[i], i + 1, random_weights=random_weights))\n",
    "\n",
    "  @staticmethod\n",
    "  def relu(x):\n",
    "      return np.maximum(0, x)\n",
    "  @staticmethod\n",
    "  def step(x):\n",
    "      return x >= 0\n",
    "\n",
    "  @staticmethod\n",
    "  def shuffle(X, y):\n",
    "    n = len(y)\n",
    "    a = [(random.random(), X[i, :], y[i]) for i in range(n)]\n",
    "    a.sort()\n",
    "    new_X = np.array([a[i][1] for i in range(n)])\n",
    "    new_y = np.array([a[i][2] for i in range(n)])\n",
    "    return new_X, new_y\n",
    "\n",
    "  def predict(self, train_sample: NDArray, logging: bool = False) -> NDArray:\n",
    "    result = np.zeros(train_sample.shape[0])\n",
    "    for i in range(train_sample.shape[0]):\n",
    "      x = train_sample[i, :]\n",
    "      for layer in self.layers:\n",
    "        x = np.append(x, values=[1]) # добавление свободного коэффициента\n",
    "        x = layer.forward(x, logging)\n",
    "\n",
    "      result[i] = x[0]\n",
    "      if logging:\n",
    "        print(result[i])\n",
    "    return result\n",
    "\n",
    "  def train(self, train_sample: NDArray,\n",
    "            train_ans: NDArray,\n",
    "            logging=False,\n",
    "            activation=np.sign,\n",
    "            random_weights=None) -> list[float]:\n",
    "    self.layers = [Layer((train_sample.shape[1]+1,\n",
    "                          self.layers[0].size[0]-1),\n",
    "                          activation,\n",
    "                          0,\n",
    "                          random_weights=random_weights)] + self.layers # инициализация сенсоров\n",
    "    for _ in range(self.epochs):\n",
    "      train_sample, train_ans = Perceptron.shuffle(train_sample, train_ans)\n",
    "      error = 0\n",
    "      for i in range(train_sample.shape[0]):\n",
    "        x = train_sample[i, :]\n",
    "        for layer in self.layers:\n",
    "          x = np.append(x, values=[1]) # добавление свободного коэффициента\n",
    "          x = layer.forward(x, logging)\n",
    "        # вычисление ошибки\n",
    "        ans = x[0]\n",
    "        delta = train_ans[i] - ans\n",
    "        error += abs(delta)\n",
    "        # пересчет весов\n",
    "        for layer in self.layers:\n",
    "          layer.backward(self.eta*delta)\n",
    "      self.errors.append(error)\n",
    "    return self.errors\n",
    "\n",
    "\n",
    "class Layer:\n",
    "  def __init__(self,\n",
    "               size: tuple[int, int],\n",
    "               activation: Callable,\n",
    "               index: int,\n",
    "               value: Union[int, float]=0,\n",
    "               random_weights=None):\n",
    "    self.size = size\n",
    "    self.w = np.full(size, value)\n",
    "    if random_weights is not None:\n",
    "      self.w = np.random.randint(random_weights[0], random_weights[1], self.size)\n",
    "    self.activation = np.vectorize(activation)\n",
    "    self.i = index\n",
    "    self.last_result = np.array([])\n",
    "    self.last_x = np.array([])\n",
    "\n",
    "  def backward(self, value) -> None:\n",
    "    if value > 0:\n",
    "      # надо увеличить те веса, где нет активации,\n",
    "      # но должна быть активация\n",
    "      d = (self.last_x>0)*value\n",
    "      d = np.repeat(np.array([d]).T, self.w.shape[1], axis=1)\n",
    "      self.w = self.w + d\n",
    "    if value < 0:\n",
    "      # надо уменьшить те веса,\n",
    "      # где активации быть не должно\n",
    "      d = (self.last_x>0)*value\n",
    "      d = np.repeat(np.array([d]).T, self.w.shape[1], axis=1)\n",
    "      self.w = self.w + d\n",
    "\n",
    "  def forward(self, x, logging) -> NDArray:\n",
    "    if logging:\n",
    "      print(f\"Слой №{self.i+1}\")\n",
    "      print(f\"Сенсоры  : {x}\")\n",
    "      print(f\"Размер: {self.size}\")\n",
    "\n",
    "    m = np.dot(x, self.w)\n",
    "    result = self.activation(m)\n",
    "    self.last_result = result\n",
    "    self.last_x = x\n",
    "    if logging:\n",
    "      print(f\"Сумматор : {m}\")\n",
    "      print(f\"Активация: {result}\")\n",
    "      print(f\"Результат размера {result.shape}\")\n",
    "\n",
    "    return result"
   ],
   "outputs": [],
   "execution_count": 136
  },
  {
   "metadata": {
    "ExecuteTime": {
     "end_time": "2025-03-21T06:45:08.442186Z",
     "start_time": "2025-03-21T06:45:08.424834Z"
    }
   },
   "cell_type": "code",
   "source": "df.species.unique()",
   "outputs": [
    {
     "data": {
      "text/plain": [
       "array(['Adelie', 'Gentoo', 'Chinstrap'], dtype=object)"
      ]
     },
     "execution_count": 137,
     "metadata": {},
     "output_type": "execute_result"
    }
   ],
   "execution_count": 137
  },
  {
   "metadata": {
    "ExecuteTime": {
     "end_time": "2025-03-21T06:45:08.623608Z",
     "start_time": "2025-03-21T06:45:08.612010Z"
    }
   },
   "cell_type": "code",
   "source": [
    "numeric_features = ['bill_length_mm', 'bill_depth_mm', 'body_mass_g', 'flipper_length_mm']\n",
    "X = df[numeric_features + ['sex']]\n",
    "X.loc[:, 'sex'] = (X.sex == 'male')"
   ],
   "outputs": [],
   "execution_count": 138
  },
  {
   "metadata": {
    "ExecuteTime": {
     "end_time": "2025-03-21T06:45:08.756598Z",
     "start_time": "2025-03-21T06:45:08.732974Z"
    }
   },
   "cell_type": "code",
   "source": [
    "y = X[['sex']].to_numpy().reshape(1, -1)[0] * 1\n",
    "X = X[numeric_features].to_numpy()\n",
    "\n",
    "X_train, X_test, y_train, y_test = train_test_split(X, y, test_size=0.3, random_state=19)\n"
   ],
   "outputs": [],
   "execution_count": 139
  },
  {
   "metadata": {
    "ExecuteTime": {
     "end_time": "2025-03-21T06:45:22.931779Z",
     "start_time": "2025-03-21T06:45:08.980026Z"
    }
   },
   "cell_type": "code",
   "source": [
    "MLP = Perceptron([400], [Perceptron.step], n_epochs=200)\n",
    "errors = MLP.train(X_train, y_train , logging=False, activation=Perceptron.step, random_weights=[0, 1])"
   ],
   "outputs": [],
   "execution_count": 140
  },
  {
   "metadata": {
    "ExecuteTime": {
     "end_time": "2025-03-21T06:45:23.283098Z",
     "start_time": "2025-03-21T06:45:22.949443Z"
    }
   },
   "cell_type": "code",
   "source": [
    "ax = plt.figure().gca()\n",
    "ax.xaxis.set_major_locator(MaxNLocator(integer=True))\n",
    "plt.step([i for i in range(len(errors))], errors)\n",
    "\n",
    "plt.xlabel(\"Эпохи\")\n",
    "plt.ylabel(\"Количество ошибок за эпоху\")\n",
    "plt.title(\"Обучение нейросети\\nбинарной классификации\")\n",
    "print(\"Размерность слоёв: \", *[i.size for i in  MLP.layers])"
   ],
   "outputs": [
    {
     "name": "stdout",
     "output_type": "stream",
     "text": [
      "Размерность слоёв:  (5, 400) (401, 1)\n"
     ]
    },
    {
     "data": {
      "text/plain": [
       "<Figure size 640x480 with 1 Axes>"
      ],
      "image/png": "[encoded data removed]"
     },
     "metadata": {},
     "output_type": "display_data"
    }
   ],
   "execution_count": 141
  },
  {
   "metadata": {
    "ExecuteTime": {
     "end_time": "2025-03-21T06:45:23.422282Z",
     "start_time": "2025-03-21T06:45:23.396385Z"
    }
   },
   "cell_type": "code",
   "source": "df[df['species'] == 'Adelie']",
   "outputs": [
    {
     "data": {
      "text/plain": [
       "    species     island  bill_length_mm  bill_depth_mm  flipper_length_mm  \\\n",
       "0    Adelie  Torgersen          39.100         18.700                181   \n",
       "1    Adelie  Torgersen          39.500         17.400                186   \n",
       "2    Adelie  Torgersen          40.300         18.000                195   \n",
       "3    Adelie  Torgersen          36.700         19.300                193   \n",
       "4    Adelie  Torgersen          39.300         20.600                190   \n",
       "..      ...        ...             ...            ...                ...   \n",
       "141  Adelie      Dream          36.600         18.400                184   \n",
       "142  Adelie      Dream          36.000         17.800                195   \n",
       "143  Adelie      Dream          37.800         18.100                193   \n",
       "144  Adelie      Dream          36.000         17.100                187   \n",
       "145  Adelie      Dream          41.500         18.500                201   \n",
       "\n",
       "     body_mass_g     sex  \n",
       "0           3750    male  \n",
       "1           3800  female  \n",
       "2           3250  female  \n",
       "3           3450  female  \n",
       "4           3650    male  \n",
       "..           ...     ...  \n",
       "141         3475  female  \n",
       "142         3450  female  \n",
       "143         3750    male  \n",
       "144         3700  female  \n",
       "145         4000    male  \n",
       "\n",
       "[146 rows x 7 columns]"
      ],
      "text/html": [
       "<div>\n",
       "<style scoped>\n",
       "    .dataframe tbody tr th:only-of-type {\n",
       "        vertical-align: middle;\n",
       "    }\n",
       "\n",
       "    .dataframe tbody tr th {\n",
       "        vertical-align: top;\n",
       "    }\n",
       "\n",
       "    .dataframe thead th {\n",
       "        text-align: right;\n",
       "    }\n",
       "</style>\n",
       "<table border=\"1\" class=\"dataframe\">\n",
       "  <thead>\n",
       "    <tr style=\"text-align: right;\">\n",
       "      <th></th>\n",
       "      <th>species</th>\n",
       "      <th>island</th>\n",
       "      <th>bill_length_mm</th>\n",
       "      <th>bill_depth_mm</th>\n",
       "      <th>flipper_length_mm</th>\n",
       "      <th>body_mass_g</th>\n",
       "      <th>sex</th>\n",
       "    </tr>\n",
       "  </thead>\n",
       "  <tbody>\n",
       "    <tr>\n",
       "      <th>0</th>\n",
       "      <td>Adelie</td>\n",
       "      <td>Torgersen</td>\n",
       "      <td>39.100</td>\n",
       "      <td>18.700</td>\n",
       "      <td>181</td>\n",
       "      <td>3750</td>\n",
       "      <td>male</td>\n",
       "    </tr>\n",
       "    <tr>\n",
       "      <th>1</th>\n",
       "      <td>Adelie</td>\n",
       "      <td>Torgersen</td>\n",
       "      <td>39.500</td>\n",
       "      <td>17.400</td>\n",
       "      <td>186</td>\n",
       "      <td>3800</td>\n",
       "      <td>female</td>\n",
       "    </tr>\n",
       "    <tr>\n",
       "      <th>2</th>\n",
       "      <td>Adelie</td>\n",
       "      <td>Torgersen</td>\n",
       "      <td>40.300</td>\n",
       "      <td>18.000</td>\n",
       "      <td>195</td>\n",
       "      <td>3250</td>\n",
       "      <td>female</td>\n",
       "    </tr>\n",
       "    <tr>\n",
       "      <th>3</th>\n",
       "      <td>Adelie</td>\n",
       "      <td>Torgersen</td>\n",
       "      <td>36.700</td>\n",
       "      <td>19.300</td>\n",
       "      <td>193</td>\n",
       "      <td>3450</td>\n",
       "      <td>female</td>\n",
       "    </tr>\n",
       "    <tr>\n",
       "      <th>4</th>\n",
       "      <td>Adelie</td>\n",
       "      <td>Torgersen</td>\n",
       "      <td>39.300</td>\n",
       "      <td>20.600</td>\n",
       "      <td>190</td>\n",
       "      <td>3650</td>\n",
       "      <td>male</td>\n",
       "    </tr>\n",
       "    <tr>\n",
       "      <th>...</th>\n",
       "      <td>...</td>\n",
       "      <td>...</td>\n",
       "      <td>...</td>\n",
       "      <td>...</td>\n",
       "      <td>...</td>\n",
       "      <td>...</td>\n",
       "      <td>...</td>\n",
       "    </tr>\n",
       "    <tr>\n",
       "      <th>141</th>\n",
       "      <td>Adelie</td>\n",
       "      <td>Dream</td>\n",
       "      <td>36.600</td>\n",
       "      <td>18.400</td>\n",
       "      <td>184</td>\n",
       "      <td>3475</td>\n",
       "      <td>female</td>\n",
       "    </tr>\n",
       "    <tr>\n",
       "      <th>142</th>\n",
       "      <td>Adelie</td>\n",
       "      <td>Dream</td>\n",
       "      <td>36.000</td>\n",
       "      <td>17.800</td>\n",
       "      <td>195</td>\n",
       "      <td>3450</td>\n",
       "      <td>female</td>\n",
       "    </tr>\n",
       "    <tr>\n",
       "      <th>143</th>\n",
       "      <td>Adelie</td>\n",
       "      <td>Dream</td>\n",
       "      <td>37.800</td>\n",
       "      <td>18.100</td>\n",
       "      <td>193</td>\n",
       "      <td>3750</td>\n",
       "      <td>male</td>\n",
       "    </tr>\n",
       "    <tr>\n",
       "      <th>144</th>\n",
       "      <td>Adelie</td>\n",
       "      <td>Dream</td>\n",
       "      <td>36.000</td>\n",
       "      <td>17.100</td>\n",
       "      <td>187</td>\n",
       "      <td>3700</td>\n",
       "      <td>female</td>\n",
       "    </tr>\n",
       "    <tr>\n",
       "      <th>145</th>\n",
       "      <td>Adelie</td>\n",
       "      <td>Dream</td>\n",
       "      <td>41.500</td>\n",
       "      <td>18.500</td>\n",
       "      <td>201</td>\n",
       "      <td>4000</td>\n",
       "      <td>male</td>\n",
       "    </tr>\n",
       "  </tbody>\n",
       "</table>\n",
       "<p>146 rows × 7 columns</p>\n",
       "</div>"
      ]
     },
     "execution_count": 142,
     "metadata": {},
     "output_type": "execute_result"
    }
   ],
   "execution_count": 142
  },
  {
   "metadata": {
    "ExecuteTime": {
     "end_time": "2025-03-21T06:45:24.072184Z",
     "start_time": "2025-03-21T06:45:24.016915Z"
    }
   },
   "cell_type": "code",
   "source": [
    "def get_features(data, target, target_name, features):\n",
    "\n",
    "    data = data[features + [target]]\n",
    "    data.loc[:, target] = (data[target] == target_name)\n",
    "    data_y = data[[target]].to_numpy().reshape(1, -1)[0] * 1\n",
    "    data_x = data[numeric_features].to_numpy()\n",
    "\n",
    "    return data_x, data_y\n",
    "\n",
    "\n",
    "X1, y1, = get_features(df[df['species'] == 'Adelie'], 'sex', 'male', numeric_features)\n",
    "X2, y2 = get_features(df[df['species'] == 'Gentoo'], 'sex', 'male', numeric_features)\n",
    "X3, y3 = get_features(df[df['species'] == 'Chinstrap'], 'sex', 'male', numeric_features)\n",
    "\n",
    "scaler1 = StandardScaler()\n",
    "scaler2 = StandardScaler()\n",
    "scaler3 = StandardScaler()\n",
    "print(X1)\n",
    "X1 = scaler1.fit_transform(X1)\n",
    "X2 = scaler2.fit_transform(X2)\n",
    "X3 = scaler3.fit_transform(X3)\n",
    "scalers = [scaler1, scaler2, scaler3]\n",
    "datas = [X1, X2, X3]\n",
    "targets = [y1, y2, y3]"
   ],
   "outputs": [
    {
     "name": "stdout",
     "output_type": "stream",
     "text": [
      "[[  39.1   18.7 3750.   181. ]\n",
      " [  39.5   17.4 3800.   186. ]\n",
      " [  40.3   18.  3250.   195. ]\n",
      " [  36.7   19.3 3450.   193. ]\n",
      " [  39.3   20.6 3650.   190. ]\n",
      " [  38.9   17.8 3625.   181. ]\n",
      " [  39.2   19.6 4675.   195. ]\n",
      " [  41.1   17.6 3200.   182. ]\n",
      " [  38.6   21.2 3800.   191. ]\n",
      " [  34.6   21.1 4400.   198. ]\n",
      " [  36.6   17.8 3700.   185. ]\n",
      " [  38.7   19.  3450.   195. ]\n",
      " [  42.5   20.7 4500.   197. ]\n",
      " [  34.4   18.4 3325.   184. ]\n",
      " [  46.    21.5 4200.   194. ]\n",
      " [  37.8   18.3 3400.   174. ]\n",
      " [  37.7   18.7 3600.   180. ]\n",
      " [  35.9   19.2 3800.   189. ]\n",
      " [  38.2   18.1 3950.   185. ]\n",
      " [  38.8   17.2 3800.   180. ]\n",
      " [  35.3   18.9 3800.   187. ]\n",
      " [  40.6   18.6 3550.   183. ]\n",
      " [  40.5   17.9 3200.   187. ]\n",
      " [  37.9   18.6 3150.   172. ]\n",
      " [  40.5   18.9 3950.   180. ]\n",
      " [  39.5   16.7 3250.   178. ]\n",
      " [  37.2   18.1 3900.   178. ]\n",
      " [  39.5   17.8 3300.   188. ]\n",
      " [  40.9   18.9 3900.   184. ]\n",
      " [  36.4   17.  3325.   195. ]\n",
      " [  39.2   21.1 4150.   196. ]\n",
      " [  38.8   20.  3950.   190. ]\n",
      " [  42.2   18.5 3550.   180. ]\n",
      " [  37.6   19.3 3300.   181. ]\n",
      " [  39.8   19.1 4650.   184. ]\n",
      " [  36.5   18.  3150.   182. ]\n",
      " [  40.8   18.4 3900.   195. ]\n",
      " [  36.    18.5 3100.   186. ]\n",
      " [  44.1   19.7 4400.   196. ]\n",
      " [  37.    16.9 3000.   185. ]\n",
      " [  39.6   18.8 4600.   190. ]\n",
      " [  41.1   19.  3425.   182. ]\n",
      " [  36.    17.9 3450.   190. ]\n",
      " [  42.3   21.2 4150.   191. ]\n",
      " [  39.6   17.7 3500.   186. ]\n",
      " [  40.1   18.9 4300.   188. ]\n",
      " [  35.    17.9 3450.   190. ]\n",
      " [  42.    19.5 4050.   200. ]\n",
      " [  34.5   18.1 2900.   187. ]\n",
      " [  41.4   18.6 3700.   191. ]\n",
      " [  39.    17.5 3550.   186. ]\n",
      " [  40.6   18.8 3800.   193. ]\n",
      " [  36.5   16.6 2850.   181. ]\n",
      " [  37.6   19.1 3750.   194. ]\n",
      " [  35.7   16.9 3150.   185. ]\n",
      " [  41.3   21.1 4400.   195. ]\n",
      " [  37.6   17.  3600.   185. ]\n",
      " [  41.1   18.2 4050.   192. ]\n",
      " [  36.4   17.1 2850.   184. ]\n",
      " [  41.6   18.  3950.   192. ]\n",
      " [  35.5   16.2 3350.   195. ]\n",
      " [  41.1   19.1 4100.   188. ]\n",
      " [  35.9   16.6 3050.   190. ]\n",
      " [  41.8   19.4 4450.   198. ]\n",
      " [  33.5   19.  3600.   190. ]\n",
      " [  39.7   18.4 3900.   190. ]\n",
      " [  39.6   17.2 3550.   196. ]\n",
      " [  45.8   18.9 4150.   197. ]\n",
      " [  35.5   17.5 3700.   190. ]\n",
      " [  42.8   18.5 4250.   195. ]\n",
      " [  40.9   16.8 3700.   191. ]\n",
      " [  37.2   19.4 3900.   184. ]\n",
      " [  36.2   16.1 3550.   187. ]\n",
      " [  42.1   19.1 4000.   195. ]\n",
      " [  34.6   17.2 3200.   189. ]\n",
      " [  42.9   17.6 4700.   196. ]\n",
      " [  36.7   18.8 3800.   187. ]\n",
      " [  35.1   19.4 4200.   193. ]\n",
      " [  37.3   17.8 3350.   191. ]\n",
      " [  41.3   20.3 3550.   194. ]\n",
      " [  36.3   19.5 3800.   190. ]\n",
      " [  36.9   18.6 3500.   189. ]\n",
      " [  38.3   19.2 3950.   189. ]\n",
      " [  38.9   18.8 3600.   190. ]\n",
      " [  35.7   18.  3550.   202. ]\n",
      " [  41.1   18.1 4300.   205. ]\n",
      " [  34.    17.1 3400.   185. ]\n",
      " [  39.6   18.1 4450.   186. ]\n",
      " [  36.2   17.3 3300.   187. ]\n",
      " [  40.8   18.9 4300.   208. ]\n",
      " [  38.1   18.6 3700.   190. ]\n",
      " [  40.3   18.5 4350.   196. ]\n",
      " [  33.1   16.1 2900.   178. ]\n",
      " [  43.2   18.5 4100.   192. ]\n",
      " [  35.    17.9 3725.   192. ]\n",
      " [  41.    20.  4725.   203. ]\n",
      " [  37.7   16.  3075.   183. ]\n",
      " [  37.8   20.  4250.   190. ]\n",
      " [  37.9   18.6 2925.   193. ]\n",
      " [  39.7   18.9 3550.   184. ]\n",
      " [  38.6   17.2 3750.   199. ]\n",
      " [  38.2   20.  3900.   190. ]\n",
      " [  38.1   17.  3175.   181. ]\n",
      " [  43.2   19.  4775.   197. ]\n",
      " [  38.1   16.5 3825.   198. ]\n",
      " [  45.6   20.3 4600.   191. ]\n",
      " [  39.7   17.7 3200.   193. ]\n",
      " [  42.2   19.5 4275.   197. ]\n",
      " [  39.6   20.7 3900.   191. ]\n",
      " [  42.7   18.3 4075.   196. ]\n",
      " [  38.6   17.  2900.   188. ]\n",
      " [  37.3   20.5 3775.   199. ]\n",
      " [  35.7   17.  3350.   189. ]\n",
      " [  41.1   18.6 3325.   189. ]\n",
      " [  36.2   17.2 3150.   187. ]\n",
      " [  37.7   19.8 3500.   198. ]\n",
      " [  40.2   17.  3450.   176. ]\n",
      " [  41.4   18.5 3875.   202. ]\n",
      " [  35.2   15.9 3050.   186. ]\n",
      " [  40.6   19.  4000.   199. ]\n",
      " [  38.8   17.6 3275.   191. ]\n",
      " [  41.5   18.3 4300.   195. ]\n",
      " [  39.    17.1 3050.   191. ]\n",
      " [  44.1   18.  4000.   210. ]\n",
      " [  38.5   17.9 3325.   190. ]\n",
      " [  43.1   19.2 3500.   197. ]\n",
      " [  36.8   18.5 3500.   193. ]\n",
      " [  37.5   18.5 4475.   199. ]\n",
      " [  38.1   17.6 3425.   187. ]\n",
      " [  41.1   17.5 3900.   190. ]\n",
      " [  35.6   17.5 3175.   191. ]\n",
      " [  40.2   20.1 3975.   200. ]\n",
      " [  37.    16.5 3400.   185. ]\n",
      " [  39.7   17.9 4250.   193. ]\n",
      " [  40.2   17.1 3400.   193. ]\n",
      " [  40.6   17.2 3475.   187. ]\n",
      " [  32.1   15.5 3050.   188. ]\n",
      " [  40.7   17.  3725.   190. ]\n",
      " [  37.3   16.8 3000.   192. ]\n",
      " [  39.    18.7 3650.   185. ]\n",
      " [  39.2   18.6 4250.   190. ]\n",
      " [  36.6   18.4 3475.   184. ]\n",
      " [  36.    17.8 3450.   195. ]\n",
      " [  37.8   18.1 3750.   193. ]\n",
      " [  36.    17.1 3700.   187. ]\n",
      " [  41.5   18.5 4000.   201. ]]\n"
     ]
    }
   ],
   "execution_count": 143
  },
  {
   "metadata": {
    "ExecuteTime": {
     "end_time": "2025-03-21T06:45:29.003049Z",
     "start_time": "2025-03-21T06:45:24.195028Z"
    }
   },
   "cell_type": "code",
   "source": [
    "percps = []\n",
    "for i in range(len(datas)):\n",
    "    percps.append(Perceptron([50], [Perceptron.step], n_epochs=100, random_state=13))\n",
    "    errors = percps[i].train(datas[i], targets[i] , logging=False, activation=Perceptron.step, random_weights=[-100, 100])\n"
   ],
   "outputs": [],
   "execution_count": 144
  },
  {
   "metadata": {
    "ExecuteTime": {
     "end_time": "2025-03-21T06:45:29.517577Z",
     "start_time": "2025-03-21T06:45:29.114215Z"
    }
   },
   "cell_type": "code",
   "source": [
    "ax = plt.figure().gca()\n",
    "ax.xaxis.set_major_locator(MaxNLocator(integer=True))\n",
    "plt.step([i for i in range(len(errors))], errors)\n",
    "\n",
    "plt.xlabel(\"Эпохи\")\n",
    "plt.ylabel(\"Количество ошибок за эпоху\")\n",
    "plt.title(\"Обучение нейросети\\nбинарной классификации\")\n",
    "print(\"Размерность слоёв: \", *[i.size for i in  MLP.layers])"
   ],
   "outputs": [
    {
     "name": "stdout",
     "output_type": "stream",
     "text": [
      "Размерность слоёв:  (5, 400) (401, 1)\n"
     ]
    },
    {
     "data": {
      "text/plain": [
       "<Figure size 640x480 with 1 Axes>"
      ],
      "image/png": "[encoded data removed]"
     },
     "metadata": {},
     "output_type": "display_data"
    }
   ],
   "execution_count": 145
  },
  {
   "metadata": {
    "ExecuteTime": {
     "end_time": "2025-03-21T06:45:29.746587Z",
     "start_time": "2025-03-21T06:45:29.531607Z"
    }
   },
   "cell_type": "code",
   "source": [
    "for i in range(3):\n",
    "    x_val, y_val = get_features(df, 'sex', 'male', numeric_features)\n",
    "    x_val = scalers[i].transform(x_val)\n",
    "    y_val_pred = percps[i].predict(x_val)\n",
    "\n",
    "    print('')\n",
    "    print('Accuracy:', acc(y_val == 1, y_val_pred == 1))\n",
    "    print('Recall:', rec(y_val == 1, y_val_pred == 1))\n",
    "    print('Precision:', pre(y_val == 1, y_val_pred == 1))"
   ],
   "outputs": [
    {
     "name": "stdout",
     "output_type": "stream",
     "text": [
      "\n",
      "Accuracy: 0.8378378378378378\n",
      "Recall: 0.8988095238095238\n",
      "Precision: 0.8031914893617021\n",
      "\n",
      "Accuracy: 0.7267267267267268\n",
      "Recall: 0.8452380952380952\n",
      "Precision: 0.6859903381642513\n",
      "\n",
      "Accuracy: 0.6726726726726727\n",
      "Recall: 0.35119047619047616\n",
      "Precision: 1.0\n"
     ]
    }
   ],
   "execution_count": 146
  },
  {
   "metadata": {
    "ExecuteTime": {
     "end_time": "2025-03-21T06:45:29.847181Z",
     "start_time": "2025-03-21T06:45:29.840742Z"
    }
   },
   "cell_type": "code",
   "source": "",
   "outputs": [],
   "execution_count": null
  }
 ],
 "metadata": {
  "kernelspec": {
   "display_name": "Python 3",
   "language": "python",
   "name": "python3"
  },
  "language_info": {
   "codemirror_mode": {
    "name": "ipython",
    "version": 3
   },
   "file_extension": ".py",
   "mimetype": "text/x-python",
   "name": "python",
   "nbconvert_exporter": "python",
   "pygments_lexer": "ipython3",
   "version": "3.13.0"
  }
 },
 "nbformat": 4,
 "nbformat_minor": 2
}
