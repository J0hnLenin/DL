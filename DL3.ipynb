{
 "cells": [
  {
   "cell_type": "markdown",
   "metadata": {},
   "source": [
    "# Лабораторная работа №3\n",
    "Классификация пингвинов\n",
    "Выполнили студенты Зимин Андрей Валерьевич, Жилин Андрей Игроевич"
   ]
  },
  {
   "cell_type": "code",
   "execution_count": 72,
   "metadata": {
    "ExecuteTime": {
     "end_time": "2025-03-21T05:00:48.644653Z",
     "start_time": "2025-03-21T05:00:48.623268Z"
    }
   },
   "outputs": [],
   "source": [
    "import numpy as np\n",
    "import pandas as pd\n",
    "from matplotlib import pyplot as plt\n",
    "from sklearn.metrics import accuracy_score as acc\n",
    "from sklearn.metrics import recall_score as rec\n",
    "from sklearn.metrics import precision_score as pre\n",
    "from sklearn.model_selection import train_test_split\n",
    "from sklearn.preprocessing import StandardScaler, MinMaxScaler\n",
    "from matplotlib.ticker import MaxNLocator\n",
    "import qrcode\n",
    "import numpy as np\n",
    "from matplotlib import pyplot as plt\n",
    "import random\n",
    "import string\n",
    "from typing import Callable, List, Union\n",
    "from numpy.typing import NDArray\n",
    "from sklearn.metrics import accuracy_score as acc\n",
    "from sklearn.metrics import recall_score as rec\n",
    "from sklearn.metrics import precision_score as pre\n",
    "from sklearn.model_selection import train_test_split\n",
    "from matplotlib.ticker import MaxNLocator"
   ]
  },
  {
   "cell_type": "markdown",
   "metadata": {},
   "source": [
    "## Задание 1\n",
    "1. Загрузить данные из файла «pinguins.csv». Проверить, что загружены все 333 кортежа данных по всем 7 признакам  \n",
    "2. Определить типы данных\n",
    "3. Определить параметры числовых данных\n",
    "4. Для нечисловых (текстовых) данных определить количество записей по каждому элементу и визуализировать гистограммы, например, так (для признака «species»)\n",
    "5. Для каждого текстового признака построить мозаику 2D диаграмм рассеяния выбирая в качестве параметров всевозможные пары числовых признаков, аналогично мозаике диаграмм для ирисов."
   ]
  },
  {
   "cell_type": "code",
   "execution_count": 3,
   "metadata": {
    "ExecuteTime": {
     "end_time": "2025-03-21T04:59:49.543515Z",
     "start_time": "2025-03-21T04:59:49.479952Z"
    }
   },
   "outputs": [
    {
     "data": {
      "text/html": [
       "<div>\n",
       "<style scoped>\n",
       "    .dataframe tbody tr th:only-of-type {\n",
       "        vertical-align: middle;\n",
       "    }\n",
       "\n",
       "    .dataframe tbody tr th {\n",
       "        vertical-align: top;\n",
       "    }\n",
       "\n",
       "    .dataframe thead th {\n",
       "        text-align: right;\n",
       "    }\n",
       "</style>\n",
       "<table border=\"1\" class=\"dataframe\">\n",
       "  <thead>\n",
       "    <tr style=\"text-align: right;\">\n",
       "      <th></th>\n",
       "      <th>species</th>\n",
       "      <th>island</th>\n",
       "      <th>bill_length_mm</th>\n",
       "      <th>bill_depth_mm</th>\n",
       "      <th>flipper_length_mm</th>\n",
       "      <th>body_mass_g</th>\n",
       "      <th>sex</th>\n",
       "    </tr>\n",
       "  </thead>\n",
       "  <tbody>\n",
       "    <tr>\n",
       "      <th>0</th>\n",
       "      <td>Adelie</td>\n",
       "      <td>Torgersen</td>\n",
       "      <td>39.1</td>\n",
       "      <td>18.7</td>\n",
       "      <td>181</td>\n",
       "      <td>3750</td>\n",
       "      <td>male</td>\n",
       "    </tr>\n",
       "    <tr>\n",
       "      <th>1</th>\n",
       "      <td>Adelie</td>\n",
       "      <td>Torgersen</td>\n",
       "      <td>39.5</td>\n",
       "      <td>17.4</td>\n",
       "      <td>186</td>\n",
       "      <td>3800</td>\n",
       "      <td>female</td>\n",
       "    </tr>\n",
       "    <tr>\n",
       "      <th>2</th>\n",
       "      <td>Adelie</td>\n",
       "      <td>Torgersen</td>\n",
       "      <td>40.3</td>\n",
       "      <td>18.0</td>\n",
       "      <td>195</td>\n",
       "      <td>3250</td>\n",
       "      <td>female</td>\n",
       "    </tr>\n",
       "    <tr>\n",
       "      <th>3</th>\n",
       "      <td>Adelie</td>\n",
       "      <td>Torgersen</td>\n",
       "      <td>36.7</td>\n",
       "      <td>19.3</td>\n",
       "      <td>193</td>\n",
       "      <td>3450</td>\n",
       "      <td>female</td>\n",
       "    </tr>\n",
       "    <tr>\n",
       "      <th>4</th>\n",
       "      <td>Adelie</td>\n",
       "      <td>Torgersen</td>\n",
       "      <td>39.3</td>\n",
       "      <td>20.6</td>\n",
       "      <td>190</td>\n",
       "      <td>3650</td>\n",
       "      <td>male</td>\n",
       "    </tr>\n",
       "    <tr>\n",
       "      <th>...</th>\n",
       "      <td>...</td>\n",
       "      <td>...</td>\n",
       "      <td>...</td>\n",
       "      <td>...</td>\n",
       "      <td>...</td>\n",
       "      <td>...</td>\n",
       "      <td>...</td>\n",
       "    </tr>\n",
       "    <tr>\n",
       "      <th>328</th>\n",
       "      <td>Chinstrap</td>\n",
       "      <td>Dream</td>\n",
       "      <td>55.8</td>\n",
       "      <td>19.8</td>\n",
       "      <td>207</td>\n",
       "      <td>4000</td>\n",
       "      <td>male</td>\n",
       "    </tr>\n",
       "    <tr>\n",
       "      <th>329</th>\n",
       "      <td>Chinstrap</td>\n",
       "      <td>Dream</td>\n",
       "      <td>43.5</td>\n",
       "      <td>18.1</td>\n",
       "      <td>202</td>\n",
       "      <td>3400</td>\n",
       "      <td>female</td>\n",
       "    </tr>\n",
       "    <tr>\n",
       "      <th>330</th>\n",
       "      <td>Chinstrap</td>\n",
       "      <td>Dream</td>\n",
       "      <td>49.6</td>\n",
       "      <td>18.2</td>\n",
       "      <td>193</td>\n",
       "      <td>3775</td>\n",
       "      <td>male</td>\n",
       "    </tr>\n",
       "    <tr>\n",
       "      <th>331</th>\n",
       "      <td>Chinstrap</td>\n",
       "      <td>Dream</td>\n",
       "      <td>50.8</td>\n",
       "      <td>19.0</td>\n",
       "      <td>210</td>\n",
       "      <td>4100</td>\n",
       "      <td>male</td>\n",
       "    </tr>\n",
       "    <tr>\n",
       "      <th>332</th>\n",
       "      <td>Chinstrap</td>\n",
       "      <td>Dream</td>\n",
       "      <td>50.2</td>\n",
       "      <td>18.7</td>\n",
       "      <td>198</td>\n",
       "      <td>3775</td>\n",
       "      <td>female</td>\n",
       "    </tr>\n",
       "  </tbody>\n",
       "</table>\n",
       "<p>333 rows × 7 columns</p>\n",
       "</div>"
      ],
      "text/plain": [
       "       species     island  bill_length_mm  bill_depth_mm  flipper_length_mm  \\\n",
       "0       Adelie  Torgersen            39.1           18.7                181   \n",
       "1       Adelie  Torgersen            39.5           17.4                186   \n",
       "2       Adelie  Torgersen            40.3           18.0                195   \n",
       "3       Adelie  Torgersen            36.7           19.3                193   \n",
       "4       Adelie  Torgersen            39.3           20.6                190   \n",
       "..         ...        ...             ...            ...                ...   \n",
       "328  Chinstrap      Dream            55.8           19.8                207   \n",
       "329  Chinstrap      Dream            43.5           18.1                202   \n",
       "330  Chinstrap      Dream            49.6           18.2                193   \n",
       "331  Chinstrap      Dream            50.8           19.0                210   \n",
       "332  Chinstrap      Dream            50.2           18.7                198   \n",
       "\n",
       "     body_mass_g     sex  \n",
       "0           3750    male  \n",
       "1           3800  female  \n",
       "2           3250  female  \n",
       "3           3450  female  \n",
       "4           3650    male  \n",
       "..           ...     ...  \n",
       "328         4000    male  \n",
       "329         3400  female  \n",
       "330         3775    male  \n",
       "331         4100    male  \n",
       "332         3775  female  \n",
       "\n",
       "[333 rows x 7 columns]"
      ]
     },
     "execution_count": 3,
     "metadata": {},
     "output_type": "execute_result"
    }
   ],
   "source": [
    "df = pd.read_csv(\"./data/penguins.csv\")\n",
    "df"
   ]
  },
  {
   "cell_type": "markdown",
   "metadata": {},
   "source": [
    "Загрузили датасет. Действительно 7 признаков и 333 строки"
   ]
  },
  {
   "cell_type": "code",
   "execution_count": 4,
   "metadata": {
    "ExecuteTime": {
     "end_time": "2025-03-21T04:59:50.025569Z",
     "start_time": "2025-03-21T04:59:49.963842Z"
    }
   },
   "outputs": [
    {
     "name": "stdout",
     "output_type": "stream",
     "text": [
      "<class 'pandas.core.frame.DataFrame'>\n",
      "RangeIndex: 333 entries, 0 to 332\n",
      "Data columns (total 7 columns):\n",
      " #   Column             Non-Null Count  Dtype  \n",
      "---  ------             --------------  -----  \n",
      " 0   species            333 non-null    object \n",
      " 1   island             333 non-null    object \n",
      " 2   bill_length_mm     333 non-null    float64\n",
      " 3   bill_depth_mm      333 non-null    float64\n",
      " 4   flipper_length_mm  333 non-null    int64  \n",
      " 5   body_mass_g        333 non-null    int64  \n",
      " 6   sex                333 non-null    object \n",
      "dtypes: float64(2), int64(2), object(3)\n",
      "memory usage: 18.3+ KB\n"
     ]
    }
   ],
   "source": [
    "df.info()"
   ]
  },
  {
   "cell_type": "markdown",
   "metadata": {},
   "source": [
    "species            - категориальный признак  \n",
    "island             - категориальный признак  \n",
    "bill_length_mm     - числовой признак  \n",
    "bill_depth_mm      - числовой признак  \n",
    "flipper_length_mm  - числовой признак  \n",
    "body_mass_g        - числовой признак  \n",
    "sex                - бинарный признак   "
   ]
  },
  {
   "cell_type": "markdown",
   "metadata": {},
   "source": [
    "Перед обучением нужно будет закодировать категориальные признаки one-hot encoding"
   ]
  },
  {
   "cell_type": "code",
   "execution_count": 5,
   "metadata": {
    "ExecuteTime": {
     "end_time": "2025-03-21T04:59:50.297068Z",
     "start_time": "2025-03-21T04:59:50.210705Z"
    }
   },
   "outputs": [
    {
     "data": {
      "text/html": [
       "<div>\n",
       "<style scoped>\n",
       "    .dataframe tbody tr th:only-of-type {\n",
       "        vertical-align: middle;\n",
       "    }\n",
       "\n",
       "    .dataframe tbody tr th {\n",
       "        vertical-align: top;\n",
       "    }\n",
       "\n",
       "    .dataframe thead th {\n",
       "        text-align: right;\n",
       "    }\n",
       "</style>\n",
       "<table border=\"1\" class=\"dataframe\">\n",
       "  <thead>\n",
       "    <tr style=\"text-align: right;\">\n",
       "      <th></th>\n",
       "      <th>bill_length_mm</th>\n",
       "      <th>bill_depth_mm</th>\n",
       "      <th>flipper_length_mm</th>\n",
       "      <th>body_mass_g</th>\n",
       "    </tr>\n",
       "  </thead>\n",
       "  <tbody>\n",
       "    <tr>\n",
       "      <th>count</th>\n",
       "      <td>333.000</td>\n",
       "      <td>333.000</td>\n",
       "      <td>333.000</td>\n",
       "      <td>333.000</td>\n",
       "    </tr>\n",
       "    <tr>\n",
       "      <th>mean</th>\n",
       "      <td>43.993</td>\n",
       "      <td>17.165</td>\n",
       "      <td>200.967</td>\n",
       "      <td>4,207.057</td>\n",
       "    </tr>\n",
       "    <tr>\n",
       "      <th>std</th>\n",
       "      <td>5.469</td>\n",
       "      <td>1.969</td>\n",
       "      <td>14.016</td>\n",
       "      <td>805.216</td>\n",
       "    </tr>\n",
       "    <tr>\n",
       "      <th>min</th>\n",
       "      <td>32.100</td>\n",
       "      <td>13.100</td>\n",
       "      <td>172.000</td>\n",
       "      <td>2,700.000</td>\n",
       "    </tr>\n",
       "    <tr>\n",
       "      <th>25%</th>\n",
       "      <td>39.500</td>\n",
       "      <td>15.600</td>\n",
       "      <td>190.000</td>\n",
       "      <td>3,550.000</td>\n",
       "    </tr>\n",
       "    <tr>\n",
       "      <th>50%</th>\n",
       "      <td>44.500</td>\n",
       "      <td>17.300</td>\n",
       "      <td>197.000</td>\n",
       "      <td>4,050.000</td>\n",
       "    </tr>\n",
       "    <tr>\n",
       "      <th>75%</th>\n",
       "      <td>48.600</td>\n",
       "      <td>18.700</td>\n",
       "      <td>213.000</td>\n",
       "      <td>4,775.000</td>\n",
       "    </tr>\n",
       "    <tr>\n",
       "      <th>max</th>\n",
       "      <td>59.600</td>\n",
       "      <td>21.500</td>\n",
       "      <td>231.000</td>\n",
       "      <td>6,300.000</td>\n",
       "    </tr>\n",
       "  </tbody>\n",
       "</table>\n",
       "</div>"
      ],
      "text/plain": [
       "       bill_length_mm  bill_depth_mm  flipper_length_mm  body_mass_g\n",
       "count         333.000        333.000            333.000      333.000\n",
       "mean           43.993         17.165            200.967    4,207.057\n",
       "std             5.469          1.969             14.016      805.216\n",
       "min            32.100         13.100            172.000    2,700.000\n",
       "25%            39.500         15.600            190.000    3,550.000\n",
       "50%            44.500         17.300            197.000    4,050.000\n",
       "75%            48.600         18.700            213.000    4,775.000\n",
       "max            59.600         21.500            231.000    6,300.000"
      ]
     },
     "execution_count": 5,
     "metadata": {},
     "output_type": "execute_result"
    }
   ],
   "source": [
    "pd.options.display.float_format = '{:,.3f}'.format\n",
    "df.describe()"
   ]
  },
  {
   "cell_type": "markdown",
   "metadata": {},
   "source": [
    "Видим, что сильно выделяется признак массы тела, он на 2-3 порядка больше остальных признаков. Перед обучением было бы неплохо провести нормализацию"
   ]
  },
  {
   "cell_type": "code",
   "execution_count": 6,
   "metadata": {
    "ExecuteTime": {
     "end_time": "2025-03-21T04:59:51.372048Z",
     "start_time": "2025-03-21T04:59:50.688333Z"
    }
   },
   "outputs": [
    {
     "data": {
      "image/png": "[encoded data removed]",
      "text/plain": [
       "<Figure size 400x400 with 1 Axes>"
      ]
     },
     "metadata": {},
     "output_type": "display_data"
    }
   ],
   "source": [
    "category_columns = ['species', 'island', 'sex']\n",
    "\n",
    "fig, ax = plt.subplots(1, 1, figsize=(4, 4))\n",
    "#for i, category in enumerate(category_columns):\n",
    "#   ax[i].bar()"
   ]
  },
  {
   "cell_type": "code",
   "execution_count": 96,
   "metadata": {
    "ExecuteTime": {
     "end_time": "2025-03-21T05:32:18.246050Z",
     "start_time": "2025-03-21T05:32:18.204904Z"
    }
   },
   "outputs": [],
   "source": [
    "class Perceptron:\n",
    "  def __init__(self, hidden_layers : List[int],\n",
    "               activations: List[Callable],\n",
    "               eta:Union[int, float] = 1,\n",
    "               n_epochs: int = 100,\n",
    "               random_weights=None,\n",
    "               random_state=None):\n",
    "    np.random.seed(random_state)\n",
    "    random.seed(random_state)\n",
    "\n",
    "    self.layers = []\n",
    "    self.epochs = n_epochs\n",
    "    self.eta = eta\n",
    "    self.errors = []\n",
    "    l = hidden_layers + [1]\n",
    "    for i in range(len(hidden_layers)):\n",
    "      self.layers.append(Layer((l[i]+1, l[i+1]), activations[i], i + 1, random_weights=random_weights))\n",
    "\n",
    "  @staticmethod\n",
    "  def relu(x):\n",
    "      return np.maximum(0, x)\n",
    "  @staticmethod\n",
    "  def step(x):\n",
    "      return int(x >= 0)\n",
    "\n",
    "  @staticmethod\n",
    "  def shuffle(X, y):\n",
    "    n = len(y)\n",
    "    a = [(random.random(), X[i, :], y[i]) for i in range(n)]\n",
    "    a.sort()\n",
    "    new_X = np.array([a[i][1] for i in range(n)])\n",
    "    new_y = np.array([a[i][2] for i in range(n)])\n",
    "    return new_X, new_y\n",
    "\n",
    "  def predict(self, train_sample: NDArray, logging: bool = False) -> NDArray:\n",
    "    result = np.zeros(train_sample.shape[0])\n",
    "    for i in range(train_sample.shape[0]):\n",
    "      x = train_sample[i, :]\n",
    "      for layer in self.layers:\n",
    "        x = np.append(x, values=[1]) # добавление свободного коэффициента\n",
    "        x = layer.forward(x, logging)\n",
    "\n",
    "      result[i] = x[0]\n",
    "      if logging:\n",
    "        print(result[i])\n",
    "    return result\n",
    "\n",
    "  def train(self, train_sample: NDArray,\n",
    "            train_ans: NDArray,\n",
    "            logging=False,\n",
    "            activation=np.sign,\n",
    "            random_weights=None) -> list[float]:\n",
    "    self.layers = [Layer((train_sample.shape[1]+1,\n",
    "                          self.layers[0].size[0]-1),\n",
    "                          activation,\n",
    "                          0,\n",
    "                          random_weights=random_weights)] + self.layers # инициализация сенсоров\n",
    "    for _ in range(self.epochs):\n",
    "      train_sample, train_ans = Perceptron.shuffle(train_sample, train_ans)\n",
    "      error = 0\n",
    "      for i in range(train_sample.shape[0]):\n",
    "        x = train_sample[i, :]\n",
    "        for layer in self.layers:\n",
    "          x = np.append(x, values=[1]) # добавление свободного коэффициента\n",
    "          x = layer.forward(x, logging)\n",
    "        # вычисление ошибки\n",
    "        ans = x[0]\n",
    "        delta = train_ans[i] - ans\n",
    "        error += abs(delta)\n",
    "        # пересчет весов\n",
    "        for layer in self.layers:\n",
    "          layer.backward(self.eta*delta)\n",
    "      self.errors.append(error)\n",
    "    return self.errors\n",
    "\n",
    "\n",
    "class Layer:\n",
    "  def __init__(self,\n",
    "               size: tuple[int, int],\n",
    "               activation: Callable,\n",
    "               index: int,\n",
    "               value: Union[int, float]=0,\n",
    "               random_weights=None):\n",
    "    self.size = size\n",
    "    self.w = np.full(size, value)\n",
    "    if random_weights is not None:\n",
    "      self.w = np.random.randint(random_weights[0], random_weights[1], self.size)\n",
    "    self.activation = np.vectorize(activation)\n",
    "    self.i = index\n",
    "    self.last_result = np.array([])\n",
    "    self.last_x = np.array([])\n",
    "\n",
    "  def backward(self, value) -> None:\n",
    "    if value > 0:\n",
    "      # надо увеличить те веса, где нет активации,\n",
    "      # но должна быть активация\n",
    "      d = (self.last_x>0)*value\n",
    "      d = np.repeat(np.array([d]).T, self.w.shape[1], axis=1)\n",
    "      self.w = self.w + d\n",
    "    if value < 0:\n",
    "      # надо уменьшить те веса,\n",
    "      # где активации быть не должно\n",
    "      d = (self.last_x>0)*value\n",
    "      d = np.repeat(np.array([d]).T, self.w.shape[1], axis=1)\n",
    "      self.w = self.w + d\n",
    "\n",
    "  def forward(self, x, logging) -> NDArray:\n",
    "    if logging:\n",
    "      print(f\"Слой №{self.i+1}\")\n",
    "      print(f\"Сенсоры  : {x}\")\n",
    "      print(f\"Размер: {self.size}\")\n",
    "\n",
    "    m = np.dot(x, self.w)\n",
    "    result = self.activation(m)\n",
    "    self.last_result = result\n",
    "    self.last_x = x\n",
    "    if logging:\n",
    "      print(f\"Сумматор : {m}\")\n",
    "      print(f\"Активация: {result}\")\n",
    "      print(f\"Результат размера {result.shape}\")\n",
    "\n",
    "    return result"
   ]
  },
  {
   "cell_type": "code",
   "execution_count": 8,
   "metadata": {
    "ExecuteTime": {
     "end_time": "2025-03-21T05:33:06.647880Z",
     "start_time": "2025-03-21T05:33:06.625171Z"
    }
   },
   "outputs": [
    {
     "data": {
      "text/plain": [
       "array(['Adelie', 'Gentoo', 'Chinstrap'], dtype=object)"
      ]
     },
     "execution_count": 8,
     "metadata": {},
     "output_type": "execute_result"
    }
   ],
   "source": [
    "df.species.unique()"
   ]
  },
  {
   "cell_type": "code",
   "execution_count": 84,
   "metadata": {
    "ExecuteTime": {
     "end_time": "2025-03-21T05:33:23.715637Z",
     "start_time": "2025-03-21T05:33:23.699507Z"
    }
   },
   "outputs": [
    {
     "data": {
      "text/plain": [
       "array([1, 1, 1, 1, 0, 1, 0, 1, 1, 0, 1, 1, 0, 1, 0, 0, 0, 1, 1, 1, 0, 1,\n",
       "       1, 1, 1, 1, 1, 0, 1, 1, 1, 1, 0, 0, 1, 1, 1, 0, 0, 0, 1, 1, 1, 1,\n",
       "       1, 1, 0, 1, 1, 1, 0, 0, 1, 1, 1, 1, 0, 1, 0, 0, 1, 1, 1, 0, 0, 0,\n",
       "       1, 0, 1, 0, 0, 0, 1, 0, 0, 1, 1, 0, 1, 1, 1, 0, 0, 0, 0, 0, 0, 0,\n",
       "       1, 1, 1, 1, 0, 1, 0, 0, 1, 1, 0, 1, 1, 1, 1, 1, 1, 1, 1, 0, 0, 1,\n",
       "       1, 0, 0, 0, 0, 0, 1, 1, 1, 0, 1, 0, 1, 0, 1, 0, 1, 0, 0, 1, 0, 0,\n",
       "       1, 0, 1, 1, 1, 0, 0, 0, 0, 1, 1, 1, 1, 0, 0, 1, 0, 1, 0, 1, 1, 0,\n",
       "       0, 0, 0, 1, 1, 0, 1, 0, 1, 1, 0, 0, 1, 1, 0, 1, 1, 0, 1, 0, 0, 0,\n",
       "       0, 1, 0, 0, 0, 1, 1, 0, 0, 0, 0, 1, 0, 1, 0, 0, 0, 0, 0, 1, 1, 0,\n",
       "       0, 1, 1, 0, 0, 0, 0, 0, 1, 1, 1, 1, 0, 1, 1, 0, 0, 0, 0, 0, 1, 0,\n",
       "       0, 0, 1, 1, 0, 0, 1, 1, 0, 1, 1, 0, 1], dtype=object)"
      ]
     },
     "execution_count": 84,
     "metadata": {},
     "output_type": "execute_result"
    }
   ],
   "source": [
    "numeric_features = ['bill_length_mm', 'bill_depth_mm', 'body_mass_g', 'flipper_length_mm']\n",
    "X = df[numeric_features + ['sex']]\n",
    "X.loc[:, 'sex'] = (X.sex == 'male')\n",
    "y = X[['sex']].to_numpy().reshape(1, -1)[0] * 1\n",
    "X = X[numeric_features].to_numpy()\n",
    "\n",
    "X = StandardScaler().fit_transform(X)\n",
    "X_train, X_test, y_train, y_test = train_test_split(X, y, test_size=0.3, random_state=19)\n",
    "y_train"
   ]
  },
  {
   "cell_type": "code",
   "execution_count": null,
   "metadata": {
    "ExecuteTime": {
     "end_time": "2025-03-21T05:36:57.913436Z",
     "start_time": "2025-03-21T05:36:53.590224Z"
    }
   },
   "outputs": [
    {
     "name": "stdout",
     "output_type": "stream",
     "text": [
      "Размерность слоёв:  (5, 400) (401, 1)\n"
     ]
    },
    {
     "data": {
      "image/png": "[encoded data removed]",
      "text/plain": [
       "<Figure size 640x480 with 1 Axes>"
      ]
     },
     "metadata": {},
     "output_type": "display_data"
    }
   ],
   "source": [
    "no_f = lambda x: x\n",
    "MLP = Perceptron([400], [Perceptron.step], n_epochs=100, random_state=13)\n",
    "errors = MLP.train(X_train, y_train, logging=False, activation=Perceptron.step, random_weights=[-100, 100])\n",
    "\n",
    "ax = plt.figure().gca()\n",
    "ax.xaxis.set_major_locator(MaxNLocator(integer=True))\n",
    "\n",
    "plt.step([i for i in range(len(errors))], errors)\n",
    "plt.ylim((0, X_train.shape[0]))\n",
    "plt.xlabel(\"Эпохи\")\n",
    "plt.ylabel(\"Количество ошибок за эпоху\")\n",
    "plt.title(\"Обучение нейросети\\nбинарной классификации\")\n",
    "print(\"Размерность слоёв: \", *[i.size for i in  MLP.layers])"
   ]
  },
  {
   "cell_type": "code",
   "execution_count": 131,
   "metadata": {},
   "outputs": [
    {
     "name": "stdout",
     "output_type": "stream",
     "text": [
      "Accuracy:  0.890\n",
      "Recall:    0.957\n",
      "Precision: 0.833\n"
     ]
    }
   ],
   "source": [
    "y_test = list(map(int, y_test))\n",
    "y_test_pred = list(map(int, MLP.predict(X_test)))\n",
    "print(f'Accuracy:  {acc(y_test, y_test_pred):.03f}')\n",
    "print(f'Recall:    {rec(y_test, y_test_pred):.03f}')\n",
    "print(f'Precision: {pre(y_test, y_test_pred):.03f}')"
   ]
  },
  {
   "cell_type": "code",
   "execution_count": null,
   "metadata": {},
   "outputs": [],
   "source": []
  }
 ],
 "metadata": {
  "kernelspec": {
   "display_name": "Python 3",
   "language": "python",
   "name": "python3"
  },
  "language_info": {
   "codemirror_mode": {
    "name": "ipython",
    "version": 3
   },
   "file_extension": ".py",
   "mimetype": "text/x-python",
   "name": "python",
   "nbconvert_exporter": "python",
   "pygments_lexer": "ipython3",
   "version": "3.13.0"
  }
 },
 "nbformat": 4,
 "nbformat_minor": 2
}
