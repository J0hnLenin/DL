{
 "cells": [
  {
   "metadata": {},
   "cell_type": "code",
   "outputs": [],
   "execution_count": null,
   "source": [
    "import numpy as np\n",
    "import copy\n",
    "from matplotlib import pyplot as plt\n",
    "import pandas as pd"
   ],
   "id": "a20a45a269e199b"
  },
  {
   "metadata": {
    "collapsed": true
   },
   "cell_type": "code",
   "outputs": [],
   "execution_count": null,
   "source": [
    "class Perceptron:\n",
    "  def __init__(self, hidden_layers, activations, eta=1, n_epochs=100):\n",
    "    self.layers = []\n",
    "    self.epochs = n_epochs\n",
    "    self.eta = eta\n",
    "    self.errors = []\n",
    "    l = hidden_layers + [1]\n",
    "    for i in range(len(hidden_layers)):\n",
    "      self.layers.append(l[i], activations[i], i)\n",
    "\n",
    "\n",
    "  def predict(self, X, logging=False):\n",
    "    result = np.zeros(X.shape[0])\n",
    "    for i in range(X.shape[0]):\n",
    "      x = X[i, :]\n",
    "      for layer in self.layers:\n",
    "        x = np.append(x, values=[1]) # bias\n",
    "        x = layer.forward(x, logging)\n",
    "      result[i] = x[0]\n",
    "      if logging:\n",
    "        print(result[i])\n",
    "    return result\n",
    "\n",
    "  def train(self, X, y):\n",
    "      ans = self.predict(X)\n",
    "      for _ in range(self.epochs):\n",
    "          error = 0\n",
    "          for i in range(y):\n",
    "              delta = y[i] - ans[i]\n",
    "              error += delta\n",
    "              for j in range(len(self.layers)):\n",
    "                  self.layers[j].backward(self.eta*np.sign(y[i] != ans[i]))\n",
    "          self.errors.append(error)\n",
    "      return self.errors\n",
    "\n",
    "\n",
    "\n",
    "\n",
    "class Layer:\n",
    "  def __init__(self, size, activation, index):\n",
    "    self.size = size\n",
    "    self.w = np.zeros(self.size)\n",
    "    self.activation = np.vectorize(activation)\n",
    "    self.i = index\n",
    "\n",
    "  def backward(self, x):\n",
    "      self.w = self.w + x\n",
    "\n",
    "  def forward(self, x, show_calc):\n",
    "    m = np.dot(x, self.w)\n",
    "    result = self.activation(m)\n",
    "\n",
    "    if show_calc:\n",
    "      print(f\"Слой №{self.i+1}\")\n",
    "      print(f\"Сенсоры  : {x}\")\n",
    "      print(f\"Сумматор : {m}\")\n",
    "      print(f\"Активация: {result}\")\n",
    "\n",
    "    return result"
   ],
   "id": "initial_id"
  },
  {
   "metadata": {},
   "cell_type": "code",
   "outputs": [],
   "execution_count": null,
   "source": "",
   "id": "4cd247adae718a09"
  }
 ],
 "metadata": {
  "kernelspec": {
   "display_name": "Python 3",
   "language": "python",
   "name": "python3"
  },
  "language_info": {
   "codemirror_mode": {
    "name": "ipython",
    "version": 2
   },
   "file_extension": ".py",
   "mimetype": "text/x-python",
   "name": "python",
   "nbconvert_exporter": "python",
   "pygments_lexer": "ipython2",
   "version": "2.7.6"
  }
 },
 "nbformat": 4,
 "nbformat_minor": 5
}
